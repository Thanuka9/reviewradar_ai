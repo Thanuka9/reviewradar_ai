{
 "cells": [
  {
   "cell_type": "code",
   "execution_count": 10,
   "metadata": {},
   "outputs": [
    {
     "name": "stdout",
     "output_type": "stream",
     "text": [
      "🔌 Connecting to postgres://review_user@localhost:5432/reviews …\n",
      "✅ Engine created successfully.\n"
     ]
    }
   ],
   "source": [
    "# 1️⃣ Load libraries & connect\n",
    "import pandas as pd\n",
    "from sqlalchemy import create_engine\n",
    "from dotenv import load_dotenv\n",
    "import os\n",
    "\n",
    "# Pull in a .env if you have one\n",
    "load_dotenv()\n",
    "\n",
    "# Safely read env vars, defaulting port to 5432 if missing\n",
    "user = os.getenv(\"DB_USER\")\n",
    "pwd  = os.getenv(\"DB_PASS\")\n",
    "host = os.getenv(\"DB_HOST\", \"localhost\")\n",
    "port = os.getenv(\"DB_PORT\") or \"5432\"\n",
    "db   = os.getenv(\"DB_NAME\")\n",
    "\n",
    "# Quick sanity check\n",
    "if not all([user, pwd, host, port, db]):\n",
    "    raise RuntimeError(\n",
    "        f\"Missing DB env var: \"\n",
    "        f\"DB_USER={user!r}, DB_PASS={'set' if pwd else 'missing'}, \"\n",
    "        f\"DB_HOST={host!r}, DB_PORT={port!r}, DB_NAME={db!r}\"\n",
    "    )\n",
    "\n",
    "print(f\"🔌 Connecting to postgres://{user}@{host}:{port}/{db} …\")\n",
    "\n",
    "# Build your engine with SQL echoing so you see queries\n",
    "engine = create_engine(\n",
    "    f\"postgresql://{user}:{pwd}@{host}:{port}/{db}\",\n",
    "    echo=True\n",
    ")\n",
    "\n",
    "print(\"✅ Engine created successfully.\")\n",
    "\n"
   ]
  }
 ],
 "metadata": {
  "kernelspec": {
   "display_name": ".venv",
   "language": "python",
   "name": "python3"
  },
  "language_info": {
   "codemirror_mode": {
    "name": "ipython",
    "version": 3
   },
   "file_extension": ".py",
   "mimetype": "text/x-python",
   "name": "python",
   "nbconvert_exporter": "python",
   "pygments_lexer": "ipython3",
   "version": "3.11.0"
  }
 },
 "nbformat": 4,
 "nbformat_minor": 5
}
